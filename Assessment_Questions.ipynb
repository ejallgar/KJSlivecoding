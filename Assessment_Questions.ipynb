{
 "cells": [
  {
   "cell_type": "markdown",
   "id": "2506803a",
   "metadata": {},
   "source": [
    "# Assessment Questions"
   ]
  },
  {
   "cell_type": "markdown",
   "id": "de24150a",
   "metadata": {},
   "source": [
    "## Q1: Arithmetic Operators"
   ]
  },
  {
   "cell_type": "raw",
   "id": "32bc7870-780c-406c-9afd-708cb2637a59",
   "metadata": {},
   "source": [
    "Which arithmetic operator should be used in place of  in each line of code below to give the result shown? [5]\n",
    "a) 5  6 = 11  \n",
    "b) 29  10 = 2  \n",
    "c) 300  6 = 50  \n",
    "d) 40  3 = 120  \n",
    "e) 413  40 = 13  \n",
    "f) 6  2 = 36"
   ]
  },
  {
   "cell_type": "markdown",
   "id": "869c8e6a",
   "metadata": {},
   "source": [
    "## Q2: Floor Division and Modulus"
   ]
  },
  {
   "cell_type": "raw",
   "id": "3b142f48-f6ba-4246-bf6b-1695e900ac9e",
   "metadata": {},
   "source": [
    "Describe the difference between the `//` and `%` operators.[2]\n",
    "Answer:\n"
   ]
  },
  {
   "cell_type": "markdown",
   "id": "6f1b4b80",
   "metadata": {},
   "source": [
    "## Q3: Pizza Slices Calculator"
   ]
  },
  {
   "cell_type": "code",
   "execution_count": null,
   "id": "cb13032a-e0b1-4a82-863d-59467daa8cf7",
   "metadata": {},
   "outputs": [],
   "source": [
    "# Write code to calculate how many slices of pizza each person will get and how many slices will be left over.  \n",
    "# The program should ask the user for the number of people, the number of pizzas, and the slices per pizza.[4]"
   ]
  },
  {
   "cell_type": "markdown",
   "id": "e193edcd",
   "metadata": {},
   "source": [
    "## Q4: Circle Area Calculation"
   ]
  },
  {
   "cell_type": "code",
   "execution_count": null,
   "id": "3ebb2869-4057-46bf-9fc8-38dbe85ad206",
   "metadata": {},
   "outputs": [],
   "source": [
    "# Write code to calculate the area of a circle (rounded to 2 decimal places) when the user inputs the radius.[3]"
   ]
  },
  {
   "cell_type": "markdown",
   "id": "d5378285",
   "metadata": {},
   "source": [
    "## Q5: Random Values"
   ]
  },
  {
   "cell_type": "raw",
   "id": "5b91d632-4a3c-412d-b447-e2f0e59974f4",
   "metadata": {},
   "source": [
    "List all possible values of `<answer>` in the code below: [2]\n",
    "a) `answer = random.randint(0, 5)`  \n",
    "Answer: \n",
    "b) `answer = random.randint(0, 10) * 10`\n",
    "Answer:"
   ]
  },
  {
   "cell_type": "markdown",
   "id": "12f32943",
   "metadata": {},
   "source": [
    "## Q6: Dice Roll Simulation"
   ]
  },
  {
   "cell_type": "code",
   "execution_count": null,
   "id": "40799ef2-5b45-47f4-9bec-e14e920a9ad1",
   "metadata": {},
   "outputs": [],
   "source": [
    "Write code to ask the user how many sides they want on their dice (e.g., 12). \n",
    "Roll the dice and return a random value.[2]"
   ]
  },
  {
   "cell_type": "markdown",
   "id": "9b87afce",
   "metadata": {},
   "source": [
    "## Q7: Lives in a Game"
   ]
  },
  {
   "cell_type": "raw",
   "id": "4765d183-33a4-473a-818b-0fe6609d08af",
   "metadata": {},
   "source": [
    "a) If the value of `lives` is 5, what will the following code display on the screen?[1]\n",
    "\n",
    "if lives > 0:\n",
    "    print(\"Keep going\")\n",
    "else:\n",
    "    print(\"Sorry, you have lost all your lives\")\n"
   ]
  },
  {
   "cell_type": "code",
   "execution_count": null,
   "id": "ea2caf8d-e9ca-4866-a519-c126cfde5527",
   "metadata": {},
   "outputs": [],
   "source": [
    "# b) Modify the code to display the number of lives left.[1]"
   ]
  },
  {
   "cell_type": "markdown",
   "id": "c0e51793",
   "metadata": {},
   "source": [
    "## Q8: Algorithm Iteration and Selection"
   ]
  },
  {
   "cell_type": "code",
   "execution_count": null,
   "id": "7426d2d3-5d5f-49fe-8d10-e374b12339d0",
   "metadata": {},
   "outputs": [],
   "source": [
    "value1 = int(input(\"Please enter number 1: \"))\n",
    "value2 = int(input(\"Please enter number 2: \"))\n",
    "while value1 != value2:\n",
    "    if value1 > value2:\n",
    "        value1 = value1 - 1\n",
    "    else:\n",
    "        value2 = value2 - 1"
   ]
  },
  {
   "cell_type": "raw",
   "id": "0173a449-435a-434b-b10c-082ed482c335",
   "metadata": {},
   "source": [
    "Questions:  \n",
    "a) State the line where iteration is first used.  [1]\n",
    "Answer:\n",
    "b) State the line where selection is first used.  [1]\n",
    "Answer:\n",
    "c) How many lines use variable assignment?  [1]\n",
    "Answer:\n",
    "d) In what circumstance would the `while` loop not run?  [1]\n",
    "Answer:\n",
    "e) If `value1 = 5` and `value2 = 20`, how many iterations will there be? [1]\n",
    "Answer:"
   ]
  },
  {
   "cell_type": "markdown",
   "id": "789d4afe",
   "metadata": {},
   "source": [
    "## Q9: Discount Calculation Algorithm"
   ]
  },
  {
   "cell_type": "code",
   "execution_count": null,
   "id": "517259b0-a37d-44e5-86c4-634eaf02cfda",
   "metadata": {},
   "outputs": [],
   "source": [
    "# The algorithm calculates the amount of discount to apply for a holiday.\n",
    "\n",
    "price = float(input(\"Please enter the price without discount: \"))\n",
    "\n",
    "discountCode = input(\"Please enter the discount code: \")\n",
    "if discountCode == \"a\":\n",
    "    discount = 0.1\n",
    "elif discountCode == \"b\":\n",
    "    discount = 0.15\n",
    "elif discountCode == \"c\":\n",
    "    discount = 0.2\n",
    "\n",
    "discountAmount = price * discount\n",
    "discountedPrice = price - discountAmount\n",
    "print(\"Discount Amount: £\", discountAmount)\n",
    "print(\"Discount Price: £\", discountedPrice)"
   ]
  },
  {
   "cell_type": "markdown",
   "id": "da09f10b",
   "metadata": {},
   "source": [
    "a) Calculate the value of `discountedPrice` and show your working for:  \n",
    "1. `price = 100`, `discountCode = b`.  [2]\n",
    "\n",
    "   \n",
    "2. `price = 600`, `discountCode = a`.  [2]\n",
    "\n"
   ]
  },
  {
   "cell_type": "markdown",
   "id": "b6787ece-41be-409f-9450-0dd0f3afd144",
   "metadata": {},
   "source": [
    "b) Modify the algorithm to assign a 0% discount if an invalid discount code is entered.[2]  \n",
    "c) Ensure the program only accepts valid discount codes (`a`, `b`, `c`) and prompts the user again if an invalid code is entered.[3]"
   ]
  },
  {
   "cell_type": "markdown",
   "id": "b28a869f",
   "metadata": {},
   "source": [
    "## Q11: Postcode Loop"
   ]
  },
  {
   "cell_type": "code",
   "execution_count": null,
   "id": "b9aafa22",
   "metadata": {},
   "outputs": [],
   "source": [
    "postcodes = [\"W1 1AA\", \"W1 1AB\", \"W1 1AC\", \"W1 1AD\", \"W1 1AE\"]\n",
    "for position in range(0, 5):  # 0 to 4\n",
    "    print(postcodes[position])"
   ]
  },
  {
   "cell_type": "raw",
   "id": "a8091d7f-8014-4bf5-b1fe-3b23c67bc899",
   "metadata": {},
   "source": [
    "Questions:  \n",
    "a) Why does the `for` loop finish at array position 4?  [3]\n",
    "Answer:\n",
    "\n",
    "b) What will the output be on the screen?  [1]\n",
    "Answer:\n",
    "\n",
    "c) Rewrite the code using a `FOR EACH` loop instead of `FOR`.[1]\n",
    "Answer:\n"
   ]
  },
  {
   "cell_type": "code",
   "execution_count": null,
   "id": "a9f0d7e7-fa3e-4067-9445-8cbca9ac6661",
   "metadata": {},
   "outputs": [],
   "source": [
    "c) Rewrite the code using a `FOR EACH` loop instead of `FOR`.[1]"
   ]
  },
  {
   "cell_type": "markdown",
   "id": "988b942c",
   "metadata": {},
   "source": [
    "## Q12: House Listings by Postcode"
   ]
  },
  {
   "cell_type": "markdown",
   "id": "f888ee2c",
   "metadata": {},
   "source": [
    "A list of houses which includes the house number, street name and postcode\n",
    "for each house are stored in a two-dimensional array. A user can be asked\n",
    "for a postcode, and the house number and street of all houses with that\n",
    "postcode will be displayed, e.g., 5a Turtle Grove. \n",
    " \n",
    "Examine the code below:"
   ]
  },
  {
   "cell_type": "code",
   "execution_count": null,
   "id": "ba9c0d2b-fc4b-40b6-ac26-5599dcb00bb0",
   "metadata": {},
   "outputs": [],
   "source": [
    "houses = [ [\"22\", \"Dolphin Street\", \"W1 1AA\"], \n",
    "           [\"33\", \"Whale Circus\", \"W1 2AA\"],\n",
    "           [\"5a\", \"Turtle Grove\", \"W1 3DQ\"],\n",
    "           [\"105\", \"Octopus Lane\", \"W2 2BC\"],\n",
    "           [\"45\", \"Dolphin Street\", \"W1 1AA\"] ]\n",
    "    \n",
    "postcode = input(\"Please enter a postcode: \")\n",
    "for position in range(0,5): # 0 to 4\n",
    "    if houses[L1][2] == L2:\n",
    "        print(houses[L1][L3], houses[L1][L4])"
   ]
  },
  {
   "cell_type": "raw",
   "id": "c671839a-d0b4-4fdf-b099-dcc8e0d4a9ef",
   "metadata": {},
   "source": [
    "a)  Which variable should be written at point L1 in the code?\n",
    "A   houses\n",
    "B   position\n",
    "C   postcode\n",
    "D   house   [1]\n",
    "\n",
    " \n",
    "b)  Which variable should be written at point L2 in the code?\n",
    "A   houses\n",
    "B   position\n",
    "C   postcode\n",
    "D   house   [1]\n",
    "\n",
    "     \n",
    "c)  What value should be written at point L3 in the code?\n",
    "A   -1\n",
    "B   0\n",
    "C   1\n",
    "D   2   [1]\n",
    "\n",
    "\n",
    "d)  What should be written at point L4 in the code? [1]\n",
    "Answer:\n",
    "     \n",
    "e)  If the user inputs “W1 1AA”, what will be displayed on the screen?  [1]\n",
    "Answer:"
   ]
  },
  {
   "cell_type": "markdown",
   "id": "77fa86a0",
   "metadata": {},
   "source": [
    "## Q13: Scores Array Operations"
   ]
  },
  {
   "cell_type": "code",
   "execution_count": null,
   "id": "8f421ad5",
   "metadata": {},
   "outputs": [],
   "source": [
    "# Students’ test results are stored in a 2D array.  \n",
    "# Part of the array for 4 of the tests is shown below:\n",
    "\n",
    "scores = [\n",
    "    [60, 58, 42, 60, 48, 40],\n",
    "    [25, 30, 24, 32, 28, 19],\n",
    "    [45, 34, 46, 49, 30, 31],\n",
    "    [42, 29, 51, 35, 31, 41]\n",
    "]"
   ]
  },
  {
   "cell_type": "raw",
   "id": "544381d9-f8fc-4000-aab0-67f21a7974cf",
   "metadata": {},
   "source": [
    "For example, Caleb scored 48 in the binary test.  There are no half marks.\n",
    "\n",
    "a)  Explain why an array is used to store the data. [2]\n",
    "Answer:\n",
    "\n",
    "b) \n",
    "\n",
    "i)  Identify the data type that should be used to store the scores in this array. [1]\n",
    "Answer:\n",
    "\n",
    "ii) State why this data type is the most appropriate. [1]\n",
    "Answer:\n",
    "\n",
    "\n",
    "c)  The code to display the score for Leo in the logic gates test is:\n",
    "\n",
    "print(scores[1,3])\n",
    "\n",
    "Answer:\n",
    "\n",
    "(i)     Write the code to output the score for Kim in the Truth Tables test. [1]\n",
    "Answer:\n",
    "\n",
    "(ii)    State the output if the following code is run:  [1]\n",
    "\n",
    "print(scores[3,4])\n",
    "\n",
    "Answer:\n",
    "\n",
    "(iii)   Write an algorithm to calculate the total of all the scores for Naomi.\n",
    " You must not use any custom or built-in statistical methods or functions.  [2]\n",
    "\n"
   ]
  },
  {
   "cell_type": "code",
   "execution_count": null,
   "id": "23cb75df-4a3e-4246-9ff9-c3585df9c005",
   "metadata": {},
   "outputs": [],
   "source": [
    "# d)  There are 25 students in the class.  Write an algorithm to display the average score for all students in all tests.  [5]\n"
   ]
  },
  {
   "cell_type": "markdown",
   "id": "77a53ca1",
   "metadata": {},
   "source": [
    "## Q14: Subroutine and Variables"
   ]
  },
  {
   "cell_type": "code",
   "execution_count": null,
   "id": "7c6f6f98",
   "metadata": {},
   "outputs": [],
   "source": [
    "x = 5\n",
    "y = 6\n",
    "z = sub_area(x, y)"
   ]
  },
  {
   "cell_type": "raw",
   "id": "e8ab1889-375b-46ce-b4ed-7869e67a76e2",
   "metadata": {},
   "source": [
    "a) Identify one variable.  [1]\n",
    "Answer:\n",
    "b) Identify one subroutine. [1]\n",
    "Answer:"
   ]
  },
  {
   "cell_type": "markdown",
   "id": "67d7bb96",
   "metadata": {},
   "source": [
    "## Q15: Subroutine to Sum Array"
   ]
  },
  {
   "cell_type": "code",
   "execution_count": null,
   "id": "0e3d01c5",
   "metadata": {},
   "outputs": [],
   "source": [
    "def sub_c(cash):\n",
    "    x = 0\n",
    "    for i in range(len(cash)):\n",
    "        x += cash[i]\n",
    "    return x"
   ]
  },
  {
   "cell_type": "raw",
   "id": "55e009dd-d5e4-4ab7-82c1-0f05a613b18c",
   "metadata": {},
   "source": [
    "a)  Identify one parameter.     [1]\n",
    "Answer:\n",
    "\n",
    "b)  Suggest a datatype for the parameter.     [1]\n",
    "Answer:\n",
    "\n",
    "c)  cash is an array of numbers.  State the purpose of this subroutine?     [1]\n",
    "Answer:\n",
    "\n",
    "d)  State one word other than SUBROUTINE and ENDSUBROUTINE that shows that sub_c is a subroutine.   [1]\n",
    "Answer:\n"
   ]
  },
  {
   "cell_type": "markdown",
   "id": "fc9ab08c",
   "metadata": {},
   "source": [
    "## Q16: Correct Points Assignment"
   ]
  },
  {
   "cell_type": "code",
   "execution_count": null,
   "id": "8c7c63ab",
   "metadata": {},
   "outputs": [],
   "source": [
    "# Examine the code below which gives 2 points if the answer\n",
    "# to a question is correct and 1 point if the answer to a\n",
    "# question is incorrect.\n",
    "\n",
    "#     Rewrite the code so it is more maintainable.\n",
    "#     You do not need to use any other subroutines. [7]\n",
    "\n",
    "def qu(s):\n",
    "x = input(\"What is the Capital of France? \")\n",
    "if x == \"Paris\":\n",
    "print(\"Well done.  You get 2 points\")\n",
    "s = s + 2\n",
    "else:\n",
    "x = input(\"Try again: \")\n",
    "if x == \"Paris\":\n",
    "print(\"Well done. You get 1 point.\")\n",
    "s = s + 1\n",
    "else:\n",
    "print(\"Oops.  Wrong answer.  You get 0 points.\")\n",
    "return s\n",
    "total = qu(5)\n",
    "print(\"Your total is:\", total)"
   ]
  },
  {
   "cell_type": "markdown",
   "id": "711e18ab",
   "metadata": {},
   "source": [
    "## Q17: Validation Check"
   ]
  },
  {
   "cell_type": "code",
   "execution_count": null,
   "id": "8b0eb4b4",
   "metadata": {},
   "outputs": [],
   "source": [
    "# Examine the code below:\n",
    "children = int(input(\"Enter number of children: \"))\n",
    "while children < 5 or children >= 30:\n",
    "    children = int(input(\"Invalid number of children, try again.\"))"
   ]
  },
  {
   "cell_type": "raw",
   "id": "d59a5c69-df0b-4bb1-9507-c2e9450812e8",
   "metadata": {},
   "source": [
    "What type of validation is being performed in the above code? [1]"
   ]
  },
  {
   "cell_type": "markdown",
   "id": "c049adfd",
   "metadata": {},
   "source": [
    "## Q18: Authentication Algorithm"
   ]
  },
  {
   "cell_type": "code",
   "execution_count": null,
   "id": "c8c4bb3b",
   "metadata": {},
   "outputs": [],
   "source": [
    "#Examine the code below which authenticates a user.  \n",
    "\n",
    "authenticated = [A]\n",
    "while [B]:\n",
    "    [C] = input(\"Enter username: \")\n",
    "    password = input(\"Enter password: \")\n",
    "    if username == \"LongPA\" and [D] == \"letmein\":\n",
    "        authenticated = [E]\n",
    "        print(\"Welcome.\")\n",
    "    else:\n",
    "        print(\"Username and password not recognised. Try again.\")"
   ]
  },
  {
   "cell_type": "raw",
   "id": "efdba33f-6681-4b3b-a97c-e86be13f6def",
   "metadata": {},
   "source": [
    "#Write down the code that should exist at each position:\n",
    "#[A] \n",
    "#[B] \n",
    "#[C] \n",
    "#[D] \n",
    "#[E] "
   ]
  },
  {
   "cell_type": "markdown",
   "id": "3671aab2",
   "metadata": {},
   "source": [
    "## Q19: Validate National Insurance Number"
   ]
  },
  {
   "cell_type": "code",
   "execution_count": null,
   "id": "9f8d7d94-5d7e-420c-b948-8514473971c2",
   "metadata": {},
   "outputs": [],
   "source": [
    "# A National Insurance number must consist of two upper case letters\n",
    "# followed by six numbers followed by one letter between A and D.\n",
    "# Complete the code below to check a National Insurance number is valid. [8]\n",
    "\n",
    "def checkNI(_________):\n",
    "    valid = _________\n",
    "    length = len(niNumber)\n",
    "\n",
    "    if ______ == 9:\n",
    "        if niNumber[0:___].isalpha():\n",
    "            if niNumber[-1].upper() in [\"A\",\"B\",\"C\",\"D\"]:\n",
    "                if niNumber[____:____].isdigit():\n",
    "                    valid = True\n",
    "    return ______\n",
    "\n",
    "\n",
    "# use the code  to check your validation routine\n",
    "print(checkNI(input(\"Please enter NI Number: \")))"
   ]
  },
  {
   "cell_type": "markdown",
   "id": "4acd9037",
   "metadata": {},
   "source": [
    "## Q20: Credit Card Limit Check"
   ]
  },
  {
   "cell_type": "markdown",
   "id": "6c38c640-87da-46dc-8b2f-648a34beb20a",
   "metadata": {},
   "source": [
    "A credit card can be used to pay for goods and services.\n",
    "It will have a limit which cannot be exceeded.\n",
    "For example, if a person has a limit of £7,000 and has already spent a balance of £6,900, then they can\n",
    "only spend another £100 before they reach their limit.\n",
    "The function below is used when an attempt is made to pay by credit card:\n"
   ]
  },
  {
   "cell_type": "code",
   "execution_count": null,
   "id": "0d7033d4",
   "metadata": {},
   "outputs": [],
   "source": [
    "def checklimit(balance, payment, limit):\n",
    "    if balance - payment <= limit:\n",
    "        return \"Payment confirmed\"\n",
    "    else:\n",
    "        return \"Payment declined\"\n",
    "\n",
    "print(checklimit(6900, 100, 7000))"
   ]
  },
  {
   "cell_type": "markdown",
   "id": "c205822e",
   "metadata": {},
   "source": [
    "The algorithm contains two errors.  \n",
    "\n",
    "Identify the line number of each error, give the type of error and show the corrected code for that line. [6]"
   ]
  },
  {
   "cell_type": "markdown",
   "id": "ef3ce96c",
   "metadata": {},
   "source": [
    "## Q21: Power Calculation Error"
   ]
  },
  {
   "cell_type": "code",
   "execution_count": null,
   "id": "53c66343",
   "metadata": {},
   "outputs": [],
   "source": [
    "#    During the development of a program, a programmer\n",
    "#    attempts to find a number (x) to the power of another number (y).\n",
    "#    The code used is shown below:\n",
    "\n",
    "x = int(input(\"Input first number: \"))\n",
    "y = int(input(\"Input power: \"))\n",
    "answer = y**x\n",
    "print(answer)"
   ]
  },
  {
   "cell_type": "raw",
   "id": "9cd421d4-6616-4d54-88fd-c4844d042475",
   "metadata": {},
   "source": [
    "The programmer tests the code and inputs the value 2 for x and 3 for y.\n",
    "\n",
    "The programmer is expecting the value of answer to be 8.\n",
    "\n",
    "a) State the actual result for answer when the code is tested.  [1]\n",
    "Answer:\n",
    "\n",
    "\n",
    "b) Explain why the actual result doesn’t match the expected result.    [2]\n",
    "Answer: \n",
    "\n",
    "c) State the type of error that has caused this.   [1]\n",
    "Answer: \n",
    "\n",
    "\n",
    "d) Correct the error in the program.   [1]"
   ]
  }
 ],
 "metadata": {
  "kernelspec": {
   "display_name": "\"Python/Mu (mu_venv-38-20230527-085350)\"",
   "language": "python",
   "name": "mu_venv-38-20230527-085350"
  },
  "language_info": {
   "name": ""
  }
 },
 "nbformat": 4,
 "nbformat_minor": 5
}
