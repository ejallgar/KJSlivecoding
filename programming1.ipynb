{
 "cells": [
  {
   "cell_type": "markdown",
   "metadata": {},
   "source": [
    "# GCSE Computer Science Programming Test\n",
    "\n",
    "This test evaluates your programming skills and understanding of fundamental concepts in Python. Follow the instructions carefully and write your answers in the provided code cells.\n",
    "\n",
    "### Instructions:\n",
    "- Do not change the names of any variables.\n",
    "- Write your code in the code cells provided.\n",
    "- Run each cell after completing it to test your solution.\n",
    "- Partial credit may be awarded for partially correct answers.\n",
    "\n",
    "Good luck!"
   ]
  },
  {
   "cell_type": "markdown",
   "metadata": {},
   "source": [
    "## Question 1: Basic Calculations (5 marks)\n",
    "\n",
    "Write a Python function `calculate_area` that takes the `length` and `width` of a rectangle as inputs and returns the area.\n",
    "\n",
    "### Example Input:\n",
    "- `length = 5`, `width = 3`\n",
    "\n",
    "### Example Output:\n",
    "The function should return `15`.\n"
   ]
  },
  {
   "cell_type": "code",
   "metadata": {
    "nbgrader": {
     "grade": true,
     "grade_id": "q1",
     "locked": false,
     "points": 5,
     "solution": true,
     "task": true
    }
   },
   "source": [
    "def calculate_area(length, width):\n",
    "    # YOUR CODE HERE\n",
    "    pass\n"
   ]
  },
  {
   "cell_type": "code",
   "metadata": {
    "nbgrader": {
     "locked": true
    }
   },
   "source": [
    "# Test your function here (optional)\n",
    "# Example:\n",
    "# print(calculate_area(5, 3))"
   ]
  },
  {
   "cell_type": "markdown",
   "metadata": {},
   "source": [
    "## Question 2: Conditions and Loops (10 marks)\n",
    "\n",
    "Write a program `fizz_buzz` that prints the numbers from 1 to 50. For multiples of 3, print `Fizz` instead of the number. For multiples of 5, print `Buzz`. For numbers that are multiples of both 3 and 5, print `FizzBuzz`.\n",
    "\n",
    "### Example Output:\n",
    "- 1, 2, Fizz, 4, Buzz, Fizz, 7, 8, Fizz, Buzz, 11, Fizz, 13, 14, FizzBuzz, 16, ...\n"
   ]
  },
  {
   "cell_type": "code",
   "metadata": {
    "nbgrader": {
     "grade": true,
     "grade_id": "q2",
     "locked": false,
     "points": 10,
     "solution": true,
     "task": true
    }
   },
   "source": [
    "def fizz_buzz():\n",
    "    # YOUR CODE HERE\n",
    "    pass\n"
   ]
  },
  {
   "cell_type": "code",
   "metadata": {
    "nbgrader": {
     "locked": true
    }
   },
   "source": [
    "# Test your function here (optional)\n",
    "# Example:\n",
    "# fizz_buzz()"
   ]
  },
  {
   "cell_type": "markdown",
   "metadata": {},
   "source": [
    "## Question 3: Arrays (5 marks)\n",
    "\n",
    "Write a Python function `find_max` that takes a list of integers as input and returns the maximum value in the list.\n",
    "\n",
    "### Example Input:\n",
    "- `[4, 7, 1, 9, 2]`\n",
    "\n",
    "### Example Output:\n",
    "- The function should return `9`.\n"
   ]
  },
  {
   "cell_type": "code",
   "metadata": {
    "nbgrader": {
     "grade": true,
     "grade_id": "q3",
     "locked": false,
     "points": 5,
     "solution": true,
     "task": true
    }
   },
   "source": [
    "def find_max(numbers):\n",
    "    # YOUR CODE HERE\n",
    "    pass\n"
   ]
  },
  {
   "cell_type": "code",
   "metadata": {
    "nbgrader": {
     "locked": true
    }
   },
   "source": [
    "# Test your function here (optional)\n",
    "# Example:\n",
    "# print(find_max([4, 7, 1, 9, 2]))"
   ]
  },
  {
   "cell_type": "markdown",
   "metadata": {},
   "source": [
    "## Submission\n",
    "\n",
    "Save your work and ensure all cells run without errors. Submit your completed notebook through the submission portal."
   ]
  }
 ],
 "metadata": {
  "kernelspec": {
   "display_name": "Python 3",
   "language": "python",
   "name": "python3"
  },
  "language_info": {
   "codemirror_mode": {
    "name": "ipython",
    "version": 3
   },
   "file_extension": ".py",
   "mimetype": "text/x-python",
   "name": "python",
   "nbconvert_exporter": "python",
   "pygments_lexer": "ipython3",
   "version": "3.8.10"
  }
 },
 "nbformat": 4,
 "nbformat_minor": 4
}