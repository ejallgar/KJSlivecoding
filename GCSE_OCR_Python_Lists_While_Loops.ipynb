{
 "cells": [
  {
   "cell_type": "markdown",
   "id": "0e114dc5",
   "metadata": {},
   "source": [
    "# GCSE OCR Computer Science: Python Lists and While Loops Assignment\n",
    "\n",
    "## Learning Objectives\n",
    "By the end of this assignment, you will:\n",
    "- Understand how to create and manipulate lists in Python.\n",
    "- Use while loops to iterate through data.\n",
    "- Solve problems combining lists and while loops.\n",
    "\n",
    "## Instructions\n",
    "- Read the examples provided in the notebook.\n",
    "- Complete the tasks in the cells marked as **Task**.\n",
    "- Run your code to check if it works as expected.\n",
    "- Add comments to explain your code."
   ]
  },
  {
   "cell_type": "markdown",
   "id": "e22fd7e7",
   "metadata": {},
   "source": [
    "## Getting Started with Lists\n",
    "\n",
    "A list is a collection of items stored in a single variable. Lists are written using square brackets."
   ]
  },
  {
   "cell_type": "code",
   "execution_count": null,
   "id": "54b33ef6",
   "metadata": {},
   "outputs": [],
   "source": [
    "### Example 1: Creating a List\n",
    "fruits = [\"apple\", \"banana\", \"cherry\"]\n",
    "print(fruits)"
   ]
  },
  {
   "cell_type": "markdown",
   "id": "72673d09",
   "metadata": {},
   "source": [
    "### Task 1: Create a list of your favorite hobbies\n",
    "Create a list called `hobbies` and add at least 3 hobbies.\n",
    "\n",
    "Write your code below:"
   ]
  },
  {
   "cell_type": "code",
   "execution_count": null,
   "id": "0f078ee7",
   "metadata": {},
   "outputs": [],
   "source": [
    "hobbies = []  # Replace with your hobbies"
   ]
  },
  {
   "cell_type": "markdown",
   "id": "5017c891",
   "metadata": {},
   "source": [
    "## Accessing and Modifying Lists\n",
    "\n",
    "You can access list items using their index (starting at 0)."
   ]
  },
  {
   "cell_type": "code",
   "execution_count": null,
   "id": "915a6451",
   "metadata": {},
   "outputs": [],
   "source": [
    "### Example 2: Accessing List Items\n",
    "print(fruits[0])  # First item\n",
    "print(fruits[1])  # Second item"
   ]
  },
  {
   "cell_type": "markdown",
   "id": "844d341e",
   "metadata": {},
   "source": [
    "### Task 2: Access and print the second hobby from your `hobbies` list\n",
    "Write your code below:"
   ]
  },
  {
   "cell_type": "code",
   "execution_count": null,
   "id": "27ab0b24",
   "metadata": {},
   "outputs": [],
   "source": []
  },
  {
   "cell_type": "markdown",
   "id": "65776199",
   "metadata": {},
   "source": [
    "You can also modify items in a list."
   ]
  },
  {
   "cell_type": "code",
   "execution_count": null,
   "id": "dac7f1c5",
   "metadata": {},
   "outputs": [],
   "source": [
    "### Example 3: Modifying a List\n",
    "fruits[1] = \"blueberry\"\n",
    "print(fruits)"
   ]
  },
  {
   "cell_type": "markdown",
   "id": "a227071c",
   "metadata": {},
   "source": [
    "### Task 3: Change the second hobby in your `hobbies` list to \"coding\".\n",
    "Write your code below:"
   ]
  },
  {
   "cell_type": "code",
   "execution_count": null,
   "id": "837974e0",
   "metadata": {},
   "outputs": [],
   "source": []
  },
  {
   "cell_type": "markdown",
   "id": "e68e7f25",
   "metadata": {},
   "source": [
    "## Using While Loops with Lists\n",
    "\n",
    "A `while` loop lets you repeat a block of code as long as a condition is true."
   ]
  },
  {
   "cell_type": "code",
   "execution_count": null,
   "id": "d16308cc",
   "metadata": {},
   "outputs": [],
   "source": [
    "### Example 4: Printing Each Item in a List\n",
    "numbers = [1, 2, 3, 4, 5]\n",
    "index = 0\n",
    "\n",
    "while index < len(numbers):\n",
    "    print(numbers[index])\n",
    "    index += 1"
   ]
  },
  {
   "cell_type": "markdown",
   "id": "80dc0d44",
   "metadata": {},
   "source": [
    "### Task 4: Write a `while` loop to print each hobby in your `hobbies` list.\n",
    "Write your code below:"
   ]
  },
  {
   "cell_type": "code",
   "execution_count": null,
   "id": "eb8f133e",
   "metadata": {},
   "outputs": [],
   "source": []
  },
  {
   "cell_type": "markdown",
   "id": "45814dcb",
   "metadata": {},
   "source": [
    "## Combining Lists and While Loops for Problem Solving"
   ]
  },
  {
   "cell_type": "code",
   "execution_count": null,
   "id": "7850d994",
   "metadata": {},
   "outputs": [],
   "source": [
    "### Example 5: Summing Numbers in a List\n",
    "numbers = [10, 20, 30, 40]\n",
    "index = 0\n",
    "total = 0\n",
    "\n",
    "while index < len(numbers):\n",
    "    total += numbers[index]\n",
    "    index += 1\n",
    "\n",
    "print(\"The total is:\", total)"
   ]
  },
  {
   "cell_type": "markdown",
   "id": "759b46f9",
   "metadata": {},
   "source": [
    "### Task 5: Calculate the Total Length of All Hobbies\n",
    "Write a `while` loop to calculate the total number of characters in all hobbies in your `hobbies` list. For example, if `hobbies = [\"reading\", \"coding\"]`, the total length is 14 (7 + 6).\n",
    "\n",
    "Write your code below:"
   ]
  },
  {
   "cell_type": "code",
   "execution_count": null,
   "id": "a27edcff",
   "metadata": {},
   "outputs": [],
   "source": []
  },
  {
   "cell_type": "markdown",
   "id": "f718cdf8",
   "metadata": {},
   "source": [
    "## Bonus Challenge"
   ]
  },
  {
   "cell_type": "markdown",
   "id": "e6852c77",
   "metadata": {},
   "source": [
    "### Task 6: Create a Number Guessing Game\n",
    "- Create a list of numbers (e.g., `[3, 7, 9, 12]`).\n",
    "- Use a `while` loop to let the user guess a number in the list.\n",
    "- The loop should continue until the user guesses correctly.\n",
    "- Provide feedback if the guess is too high, too low, or correct.\n",
    "\n",
    "Write your code below:"
   ]
  },
  {
   "cell_type": "code",
   "execution_count": null,
   "id": "f63b449e",
   "metadata": {},
   "outputs": [],
   "source": []
  },
  {
   "cell_type": "markdown",
   "id": "ccfd7903",
   "metadata": {},
   "source": [
    "## Submission\n",
    "Save your completed notebook and submit it according to your teacher's instructions.\n",
    "Good luck and happy coding!"
   ]
  }
 ],
 "metadata": {},
 "nbformat": 4,
 "nbformat_minor": 5
}
