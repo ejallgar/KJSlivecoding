{
 "cells": [
  {
   "cell_type": "markdown",
   "id": "2506803a",
   "metadata": {},
   "source": [
    "# Assessment Questions"
   ]
  },
  {
   "cell_type": "markdown",
   "id": "de24150a",
   "metadata": {},
   "source": [
    "## Q1: Arithmetic Operators"
   ]
  },
  {
   "cell_type": "markdown",
   "id": "683b43a6",
   "metadata": {},
   "source": [
    "Which arithmetic operator should be used in place of  in each line of code below to give the result shown?\n",
    "- a) 5  6 = 11  \n",
    "- b) 29  10 = 2  \n",
    "- c) 300  6 = 50  \n",
    "- d) 40  3 = 120  \n",
    "- e) 413  40 = 13  \n",
    "- f) 6  2 = 36"
   ]
  },
  {
   "cell_type": "markdown",
   "id": "869c8e6a",
   "metadata": {},
   "source": [
    "## Q2: Floor Division and Modulus"
   ]
  },
  {
   "cell_type": "markdown",
   "id": "bc417f2d",
   "metadata": {},
   "source": [
    "Describe the difference between the `//` and `%` operators."
   ]
  },
  {
   "cell_type": "markdown",
   "id": "6f1b4b80",
   "metadata": {},
   "source": [
    "## Q3: Pizza Slices Calculator"
   ]
  },
  {
   "cell_type": "markdown",
   "id": "51d299ab",
   "metadata": {},
   "source": [
    "Write code to calculate how many slices of pizza each person will get and how many slices will be left over.  \n",
    "The program should ask the user for the number of people, the number of pizzas, and the slices per pizza."
   ]
  },
  {
   "cell_type": "markdown",
   "id": "e193edcd",
   "metadata": {},
   "source": [
    "## Q4: Circle Area Calculation"
   ]
  },
  {
   "cell_type": "markdown",
   "id": "b792f386",
   "metadata": {},
   "source": [
    "Write code to calculate the area of a circle (rounded to 2 decimal places) when the user inputs the radius."
   ]
  },
  {
   "cell_type": "markdown",
   "id": "d5378285",
   "metadata": {},
   "source": [
    "## Q5: Random Values"
   ]
  },
  {
   "cell_type": "markdown",
   "id": "8bb70a2d",
   "metadata": {},
   "source": [
    "List all possible values of `<answer>` in the code below:\n",
    "- a) `answer = random.randint(0, 5)`  \n",
    "- b) `answer = random.randint(0, 10) * 10`"
   ]
  },
  {
   "cell_type": "markdown",
   "id": "12f32943",
   "metadata": {},
   "source": [
    "## Q6: Dice Roll Simulation"
   ]
  },
  {
   "cell_type": "markdown",
   "id": "8f275825",
   "metadata": {},
   "source": [
    "Write code to ask the user how many sides they want on their dice (e.g., 12). Roll the dice and return a random value."
   ]
  },
  {
   "cell_type": "markdown",
   "id": "9b87afce",
   "metadata": {},
   "source": [
    "## Q7: Lives in a Game"
   ]
  },
  {
   "cell_type": "markdown",
   "id": "6f3e4467",
   "metadata": {},
   "source": [
    "### a) If the value of `lives` is 5, what will the following code display on the screen?\n",
    "```python\n",
    "if lives > 0:\n",
    "    print(\"Keep going\")\n",
    "else:\n",
    "    print(\"Sorry, you have lost all your lives\")\n",
    "```\n",
    "### b) Modify the code to display the number of lives left."
   ]
  },
  {
   "cell_type": "markdown",
   "id": "c0e51793",
   "metadata": {},
   "source": [
    "## Q8: Algorithm Iteration and Selection"
   ]
  },
  {
   "cell_type": "code",
   "execution_count": null,
   "id": "6c3eda9b",
   "metadata": {},
   "outputs": [],
   "source": [
    "value1 = int(input(\"Please enter number 1: \"))\n",
    "value2 = int(input(\"Please enter number 2: \"))\n",
    "while value1 != value2:\n",
    "    if value1 > value2:\n",
    "        value1 = value1 - 1\n",
    "    else:\n",
    "        value2 = value2 - 1"
   ]
  },
  {
   "cell_type": "markdown",
   "id": "58246a6d",
   "metadata": {},
   "source": [
    "Questions:  \n",
    "- a) State the line where iteration is first used.  \n",
    "- b) State the line where selection is first used.  \n",
    "- c) How many lines use variable assignment?  \n",
    "- d) In what circumstance would the `while` loop not run?  \n",
    "- e) If `value1 = 5` and `value2 = 20`, how many iterations will there be?"
   ]
  },
  {
   "cell_type": "markdown",
   "id": "789d4afe",
   "metadata": {},
   "source": [
    "## Q9: Discount Calculation Algorithm"
   ]
  },
  {
   "cell_type": "markdown",
   "id": "da09f10b",
   "metadata": {},
   "source": [
    "### a) Calculate the value of `discountedPrice` and show your working for:  \n",
    "1. `price = 100`, `discountCode = b`.  \n",
    "2. `price = 600`, `discountCode = a`.  \n",
    "### b) Modify the algorithm to assign a 0% discount if an invalid discount code is entered.  \n",
    "### c) Ensure the program only accepts valid discount codes (`a`, `b`, `c`) and prompts the user again if an invalid code is entered."
   ]
  },
  {
   "cell_type": "markdown",
   "id": "d9aeb420",
   "metadata": {},
   "source": [
    "## Q10: Multiplication Until 256"
   ]
  },
  {
   "cell_type": "code",
   "execution_count": null,
   "id": "fa57ac58",
   "metadata": {},
   "outputs": [],
   "source": [
    "p = 1\n",
    "while ###:\n",
    "    print(\"The next number is\", p)\n",
    "    p = p * 2"
   ]
  },
  {
   "cell_type": "markdown",
   "id": "9389465b",
   "metadata": {},
   "source": [
    "### b) Predict the output on the screen."
   ]
  },
  {
   "cell_type": "markdown",
   "id": "b28a869f",
   "metadata": {},
   "source": [
    "## Q11: Postcode Loop"
   ]
  },
  {
   "cell_type": "code",
   "execution_count": null,
   "id": "b9aafa22",
   "metadata": {},
   "outputs": [],
   "source": [
    "postcodes = [\"W1 1AA\", \"W1 1AB\", \"W1 1AC\", \"W1 1AD\", \"W1 1AE\"]\n",
    "for position in range(0, 5):  # 0 to 4\n",
    "    print(postcodes[position])"
   ]
  },
  {
   "cell_type": "markdown",
   "id": "5766f4b4",
   "metadata": {},
   "source": [
    "Questions:  \n",
    "- a) Why does the `for` loop finish at array position 4?  \n",
    "- b) What will the output be on the screen?  \n",
    "- c) Rewrite the code using a `FOR EACH` loop instead of `FOR`."
   ]
  },
  {
   "cell_type": "markdown",
   "id": "988b942c",
   "metadata": {},
   "source": [
    "## Q12: House Listings by Postcode"
   ]
  },
  {
   "cell_type": "markdown",
   "id": "f888ee2c",
   "metadata": {},
   "source": [
    "A list of houses contains house numbers, street names, and postcodes. Write a program to display the house number and street name for all houses matching a user-specified postcode."
   ]
  },
  {
   "cell_type": "markdown",
   "id": "77fa86a0",
   "metadata": {},
   "source": [
    "## Q13: Scores Array Operations"
   ]
  },
  {
   "cell_type": "code",
   "execution_count": null,
   "id": "8f421ad5",
   "metadata": {},
   "outputs": [],
   "source": [
    "scores = [\n",
    "    [60, 58, 42, 60, 48, 40],\n",
    "    [25, 30, 24, 32, 28, 19],\n",
    "    [45, 34, 46, 49, 30, 31],\n",
    "    [42, 29, 51, 35, 31, 41]\n",
    "]"
   ]
  },
  {
   "cell_type": "markdown",
   "id": "fa586be7",
   "metadata": {},
   "source": [
    "Questions:  \n",
    "- a) Why is an array used to store this data?  \n",
    "- b) Write code to calculate Naomi's total score (row index 2).  \n",
    "- c) Write code to calculate the average score across all students."
   ]
  },
  {
   "cell_type": "markdown",
   "id": "77a53ca1",
   "metadata": {},
   "source": [
    "## Q14: Subroutine and Variables"
   ]
  },
  {
   "cell_type": "code",
   "execution_count": null,
   "id": "7c6f6f98",
   "metadata": {},
   "outputs": [],
   "source": [
    "x = 5\n",
    "y = 6\n",
    "z = sub_area(x, y)"
   ]
  },
  {
   "cell_type": "markdown",
   "id": "0b7cf783",
   "metadata": {},
   "source": [
    "### a) Identify one variable.  \n",
    "### b) Identify one subroutine."
   ]
  },
  {
   "cell_type": "markdown",
   "id": "67d7bb96",
   "metadata": {},
   "source": [
    "## Q15: Subroutine to Sum Array"
   ]
  },
  {
   "cell_type": "code",
   "execution_count": null,
   "id": "0e3d01c5",
   "metadata": {},
   "outputs": [],
   "source": [
    "def sub_c(cash):\n",
    "    x = 0\n",
    "    for i in range(len(cash)):\n",
    "        x += cash[i]\n",
    "    return x"
   ]
  },
  {
   "cell_type": "markdown",
   "id": "d3ee7dca",
   "metadata": {},
   "source": [
    "Questions:  \n",
    "- a) Identify one parameter.  \n",
    "- b) Suggest a datatype for the parameter."
   ]
  },
  {
   "cell_type": "markdown",
   "id": "fc9ab08c",
   "metadata": {},
   "source": [
    "## Q16: Correct Points Assignment"
   ]
  },
  {
   "cell_type": "code",
   "execution_count": null,
   "id": "8c7c63ab",
   "metadata": {},
   "outputs": [],
   "source": [
    "def qu(s):\n",
    "    x = input(\"What is the Capital of France? \")\n",
    "    if x == \"Paris\":\n",
    "        print(\"Well done. You get 2 points\")\n",
    "        s = s + 2\n",
    "    else:\n",
    "        x = input(\"Try again: \")\n",
    "        if x == \"Paris\":\n",
    "            print(\"Well done. You get 1 point.\")\n",
    "            s = s + 1\n",
    "        else:\n",
    "            print(\"Oops. Wrong answer. You get 0 points.\")\n",
    "    return s"
   ]
  },
  {
   "cell_type": "markdown",
   "id": "bdfc13bd",
   "metadata": {},
   "source": [
    "Rewrite the above code to make it more maintainable."
   ]
  },
  {
   "cell_type": "markdown",
   "id": "711e18ab",
   "metadata": {},
   "source": [
    "## Q17: Validation Check"
   ]
  },
  {
   "cell_type": "code",
   "execution_count": null,
   "id": "8b0eb4b4",
   "metadata": {},
   "outputs": [],
   "source": [
    "children = int(input(\"Enter number of children: \"))\n",
    "while children < 5 or children >= 30:\n",
    "    children = int(input(\"Invalid number of children, try again.\"))"
   ]
  },
  {
   "cell_type": "markdown",
   "id": "b052cb8f",
   "metadata": {},
   "source": [
    "What type of validation is being performed in the above code?"
   ]
  },
  {
   "cell_type": "markdown",
   "id": "c049adfd",
   "metadata": {},
   "source": [
    "## Q18: Authentication Algorithm"
   ]
  },
  {
   "cell_type": "code",
   "execution_count": null,
   "id": "c8c4bb3b",
   "metadata": {},
   "outputs": [],
   "source": [
    "authenticated = [A]\n",
    "while [B]:\n",
    "    [C] = input(\"Enter username: \")\n",
    "    password = input(\"Enter password: \")\n",
    "    if username == \"LongPA\" and [D] == \"letmein\":\n",
    "        authenticated = [E]\n",
    "        print(\"Welcome.\")\n",
    "    else:\n",
    "        print(\"Username and password not recognised. Try again.\")"
   ]
  },
  {
   "cell_type": "markdown",
   "id": "3671aab2",
   "metadata": {},
   "source": [
    "## Q19: Validate National Insurance Number"
   ]
  },
  {
   "cell_type": "markdown",
   "id": "b76798f4",
   "metadata": {},
   "source": [
    "Write a function to validate a National Insurance number.  \n",
    "It must consist of:\n",
    "1. Two uppercase letters  \n",
    "2. Six digits  \n",
    "3. One letter between A and D."
   ]
  },
  {
   "cell_type": "markdown",
   "id": "4acd9037",
   "metadata": {},
   "source": [
    "## Q20: Credit Card Limit Check"
   ]
  },
  {
   "cell_type": "code",
   "execution_count": null,
   "id": "0d7033d4",
   "metadata": {},
   "outputs": [],
   "source": [
    "def checklimit(balance, payment, limit):\n",
    "    if balance - payment <= limit:\n",
    "        return \"Payment confirmed\"\n",
    "    else:\n",
    "        return \"Payment declined\"\n",
    "\n",
    "print(checklimit(6900, 100, 7000))"
   ]
  },
  {
   "cell_type": "markdown",
   "id": "c205822e",
   "metadata": {},
   "source": [
    "Identify and fix the two errors in the above code."
   ]
  },
  {
   "cell_type": "markdown",
   "id": "ef3ce96c",
   "metadata": {},
   "source": [
    "## Q21: Power Calculation Error"
   ]
  },
  {
   "cell_type": "code",
   "execution_count": null,
   "id": "53c66343",
   "metadata": {},
   "outputs": [],
   "source": [
    "x = int(input(\"Input first number: \"))\n",
    "y = int(input(\"Input power: \"))\n",
    "answer = y**x\n",
    "print(answer)"
   ]
  },
  {
   "cell_type": "markdown",
   "id": "5eaa1ca4",
   "metadata": {},
   "source": [
    "Questions:  \n",
    "- a) State the actual result if x = 2 and y = 3.  \n",
    "- b) Explain why the result doesn’t match the expected result.  \n",
    "- c) Correct the error in the program."
   ]
  },
  {
   "cell_type": "code",
   "execution_count": null,
   "id": "e77996b9",
   "metadata": {},
   "outputs": [],
   "source": [
    "\n",
    "# Automated Marking Functions\n",
    "\n",
    "# Q1: Arithmetic Operators\n",
    "def mark_q1(student_answers):\n",
    "    correct_answers = ['+', '%', '/', '*', '%', '**']\n",
    "    score = 0\n",
    "    for student, correct in zip(student_answers, correct_answers):\n",
    "        if student == correct:\n",
    "            score += 1\n",
    "    return f\"Q1 Score: {score}/6\"\n",
    "\n",
    "# Q2: Floor Division and Modulus\n",
    "def mark_q2(student_answer):\n",
    "    correct_answer = \"Floor division // returns the integer quotient; Modulus % returns the remainder.\"\n",
    "    if student_answer.strip().lower() == correct_answer.strip().lower():\n",
    "        return \"Q2 Score: 2/2\"\n",
    "    return \"Q2 Score: 0/2\"\n",
    "\n",
    "# Q3: Pizza Slices\n",
    "def mark_q3(actual_slices, actual_leftover, expected_slices, expected_leftover):\n",
    "    if actual_slices == expected_slices and actual_leftover == expected_leftover:\n",
    "        return \"Q3 Score: 4/4\"\n",
    "    return \"Q3 Score: 0/4\"\n",
    "\n",
    "# Q4: Circle Area\n",
    "def mark_q4(student_area, expected_area):\n",
    "    if round(student_area, 2) == round(expected_area, 2):\n",
    "        return \"Q4 Score: 3/3\"\n",
    "    return \"Q4 Score: 0/3\"\n",
    "\n",
    "# Q5: Random Values\n",
    "def mark_q5(student_answers):\n",
    "    correct_a = set(range(0, 6))\n",
    "    correct_b = set(i * 10 for i in range(0, 11))\n",
    "    score = 0\n",
    "    if set(student_answers[0]) == correct_a:\n",
    "        score += 1\n",
    "    if set(student_answers[1]) == correct_b:\n",
    "        score += 1\n",
    "    return f\"Q5 Score: {score}/2\"\n",
    "\n",
    "# Q6: Dice Roll Simulation\n",
    "def mark_q6(rolled_value, sides):\n",
    "    if 1 <= rolled_value <= sides:\n",
    "        return \"Q6 Score: 2/2\"\n",
    "    return \"Q6 Score: 0/2\"\n",
    "\n",
    "# Add similar marking functions for other questions as required.\n"
   ]
  }
 ],
 "metadata": {},
 "nbformat": 4,
 "nbformat_minor": 5
}
