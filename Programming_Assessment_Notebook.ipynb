{
 "cells": [
  {
   "cell_type": "markdown",
   "metadata": {},
   "source": [
    "# Programming Assessment\n",
    "\n",
    "This notebook contains solutions and explanations for the programming tasks."
   ]
  },
  {
   "cell_type": "markdown",
   "metadata": {},
   "source": [
    "## Question 1: Arithmetic Operators\n",
    "### Which arithmetic operator should be used?\n",
    "1. `5  6 = 11`\n",
    "2. `29  10 = 2`\n",
    "3. `300  6 = 50`\n",
    "4. `40  3 = 120`\n",
    "5. `413  40 = 13`\n",
    "6. `6  2 = 36`"
   ]
  },
  {
   "cell_type": "markdown",
   "metadata": {},
   "source": [
    "## Question 2: Operators\n",
    "### Describe the difference between `//` and `%`\n",
    "- `//`: Floor division, which returns the largest integer less than or equal to the division result.\n",
    "- `%`: Modulus operator, which returns the remainder after division."
   ]
  },
  {
   "cell_type": "markdown",
   "metadata": {},
   "source": [
    "## Question 3: Pizza Slices\n",
    "### Write code to calculate slices per person and leftover slices.\n",
    "The program should ask the user for the number of people, pizzas, and slices per pizza."
   ]
  },
  {
   "cell_type": "code",
   "execution_count": null,
   "metadata": {},
   "outputs": [],
   "source": [
    "# Code for Question 3\n",
    "people = int(input(\"Enter the number of people: \"))\n",
    "pizzas = int(input(\"Enter the number of pizzas: \"))\n",
    "slices_per_pizza = int(input(\"Enter the number of slices per pizza: \"))\n",
    "\n",
    "total_slices = pizzas * slices_per_pizza\n",
    "slices_per_person = total_slices // people\n",
    "leftover_slices = total_slices % people\n",
    "\n",
    "print(f\"Each person gets {slices_per_person} slices.\")\n",
    "print(f\"Leftover slices: {leftover_slices}\")"
   ]
  },
  {
   "cell_type": "markdown",
   "metadata": {},
   "source": [
    "## Question 4: Area of a Circle\n",
    "### Calculate the area of a circle rounded to 2 decimal places when the user inputs the radius."
   ]
  },
  {
   "cell_type": "code",
   "execution_count": null,
   "metadata": {},
   "outputs": [],
   "source": [
    "# Code for Question 4\n",
    "import math\n",
    "\n",
    "radius = float(input(\"Enter the radius of the circle: \"))\n",
    "area = math.pi * (radius ** 2)\n",
    "print(f\"The area of the circle is: {area:.2f}\")"
   ]
  },
  {
   "cell_type": "markdown",
   "metadata": {},
   "source": [
    "## Question 5: Random Values\n",
    "### Part A: Possible values of `<answer>` for the following code:\n",
    "```python\n",
    "import random\n",
    "answer = random.randint(0, 5)\n",
    "```\n",
    "- Possible values: 0, 1, 2, 3, 4, 5\n",
    "\n",
    "### Part B: Possible values of `<answer>` for the following code:\n",
    "```python\n",
    "answer = random.randint(0, 10) * 10\n",
    "```\n",
    "- Possible values: 0, 10, 20, 30, 40, 50, 60, 70, 80, 90, 100"
   ]
  },
  {
   "cell_type": "markdown",
   "metadata": {},
   "source": [
    "## Question 6: Roll a Dice\n",
    "### Write code to ask the user how many sides they want on their dice and roll it."
   ]
  },
  {
   "cell_type": "code",
   "execution_count": null,
   "metadata": {},
   "outputs": [],
   "source": [
    "# Code for Question 6\n",
    "import random\n",
    "\n",
    "sides = int(input(\"Enter the number of sides on the dice: \"))\n",
    "result = random.randint(1, sides)\n",
    "print(f\"You rolled a {result}\")"
   ]
  },
  {
   "cell_type": "markdown",
   "metadata": {},
   "source": [
    "## Question 7: Game Logic\n",
    "### Adjust the game code to display how many lives are left.\n",
    "```python\n",
    "lives = 5\n",
    "if lives > 0:\n",
    "    print(f'Keep going. Lives left: {lives}')\n",
    "else:\n",
    "    print('Sorry, you have lost all your lives')\n",
    "```"
   ]
  }
 ],
 "metadata": {
  "kernelspec": {
   "display_name": "Python 3",
   "language": "python",
   "name": "python3"
  },
  "language_info": {
   "codemirror_mode": {
    "name": "ipython",
    "version": 3
   },
   "file_extension": ".py",
   "mimetype": "text/x-python",
   "name": "python",
   "nbconvert_exporter": "python",
   "pygments_lexer": "ipython3",
   "version": "3.9.7"
  }
 },
 "nbformat": 4,
 "nbformat_minor": 5
}